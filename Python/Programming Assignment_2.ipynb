{
 "cells": [
  {
   "cell_type": "markdown",
   "id": "08c66ea5",
   "metadata": {
    "id": "08c66ea5"
   },
   "source": [
    "## Programming Assignment_2\n",
    "-------------"
   ]
  },
  {
   "cell_type": "markdown",
   "id": "4e50cf42",
   "metadata": {
    "id": "4e50cf42"
   },
   "source": [
    "### 1. Write a Python program to convert kilometers to miles?\n"
   ]
  },
  {
   "cell_type": "code",
   "execution_count": 8,
   "id": "eb54c95d",
   "metadata": {},
   "outputs": [
    {
     "name": "stdout",
     "output_type": "stream",
     "text": [
      "Enter Kilometers: 50\n",
      "Value of kilometer is : 50.0  Value converted to miles is : 31.0685595\n"
     ]
    }
   ],
   "source": [
    "# Convert kilometers to miles\n",
    "kilometers = float(input(\"Enter Kilometers: \"))\n",
    "#1 km = 0.62137119 miles\n",
    "\n",
    "conversion = 0.62137119\n",
    "\n",
    "miles = kilometers * conversion\n",
    "print(\"Value of kilometer is :\", kilometers,\" Value converted to miles is :\", miles)"
   ]
  },
  {
   "cell_type": "markdown",
   "id": "0df4e6bf",
   "metadata": {
    "id": "0df4e6bf"
   },
   "source": [
    "### 2.Write a Python program to convert Celsius to Fahrenheit?"
   ]
  },
  {
   "cell_type": "code",
   "execution_count": 9,
   "id": "59e4dda6",
   "metadata": {},
   "outputs": [
    {
     "name": "stdout",
     "output_type": "stream",
     "text": [
      "Enter Celsius :32.5\n",
      "Value of celsius is:  32.5  Value converted to Fahrenheit is:  90.5\n"
     ]
    }
   ],
   "source": [
    "# Convert Celsius to Fahrenheit\n",
    "celsius = float(input(\"Enter Celsius :\"))\n",
    " \n",
    "fahrenheit = celsius * 1.8 + 32 \n",
    "\n",
    "print(\"Value of celsius is: \", celsius,\" Value converted to Fahrenheit is: \", fahrenheit)"
   ]
  },
  {
   "cell_type": "markdown",
   "id": "46129b8e",
   "metadata": {
    "id": "46129b8e"
   },
   "source": [
    "### 3. Write a Python program to display calendar?\n"
   ]
  },
  {
   "cell_type": "code",
   "execution_count": 10,
   "id": "b557d633",
   "metadata": {},
   "outputs": [],
   "source": [
    "# Import calendar in python\n",
    "import calendar"
   ]
  },
  {
   "cell_type": "code",
   "execution_count": 14,
   "id": "345bbc2c",
   "metadata": {},
   "outputs": [
    {
     "name": "stdout",
     "output_type": "stream",
     "text": [
      "Enter The Year: 2023\n",
      "Enter The Month in number:02\n",
      "   February 2023\n",
      "Mo Tu We Th Fr Sa Su\n",
      "       1  2  3  4  5\n",
      " 6  7  8  9 10 11 12\n",
      "13 14 15 16 17 18 19\n",
      "20 21 22 23 24 25 26\n",
      "27 28\n",
      "\n"
     ]
    }
   ],
   "source": [
    "# Display Calendar\n",
    "year = int(input(\"Enter The Year: \"))\n",
    "month = int(input(\"Enter The Month in number:\"))\n",
    "\n",
    "print(calendar.month(year,month))"
   ]
  },
  {
   "cell_type": "markdown",
   "id": "db2bf0f7",
   "metadata": {
    "id": "db2bf0f7"
   },
   "source": [
    "### 4. Write a Python program to solve quadratic equation?"
   ]
  },
  {
   "cell_type": "markdown",
   "id": "0e432e0a",
   "metadata": {},
   "source": [
    "ax2 + bx + c = 0, where\n",
    "a, b and c are real numbers and\n",
    "a != 0"
   ]
  },
  {
   "cell_type": "code",
   "execution_count": 17,
   "id": "4eab0576",
   "metadata": {},
   "outputs": [
    {
     "name": "stdout",
     "output_type": "stream",
     "text": [
      "Enter a number other than zero: 24\n",
      "Enter a number other than zero: 12\n",
      "Enter a number other than zero: 65\n",
      "The Solutions for quadratic equation is:  (-0.25-1.6266017746619281j) (-0.25+1.6266017746619281j)\n"
     ]
    }
   ],
   "source": [
    "# import cmath in python\n",
    "import cmath\n",
    "\n",
    "a = int(input(\"Enter a number other than zero: \"))\n",
    "b = int(input(\"Enter a number other than zero: \"))\n",
    "c = int(input(\"Enter a number other than zero: \"))\n",
    "\n",
    "# calculate the discriminant\n",
    "d = (b**2) - (4*a*c)\n",
    "\n",
    "# two solutions\n",
    "sol1 = (-b-cmath.sqrt(d))/(2*a)\n",
    "sol2 = (-b+cmath.sqrt(d))/(2*a)\n",
    "\n",
    "print(\"The Solutions for quadratic equation is: \", sol1, sol2 )"
   ]
  },
  {
   "cell_type": "markdown",
   "id": "f70f74c9",
   "metadata": {
    "id": "f70f74c9"
   },
   "source": [
    "### 5. Write a Python program to swap two variables without temp variable?"
   ]
  },
  {
   "cell_type": "code",
   "execution_count": 18,
   "id": "8e4a21a7",
   "metadata": {},
   "outputs": [
    {
     "name": "stdout",
     "output_type": "stream",
     "text": [
      "Give a number which you like for var1: 59\n",
      "Give a number which you like for var2: 75\n",
      "-------After Swapping the result is-------\n",
      "After swapping the value of var1 is :  75\n",
      "After Swapping the value of var2 is:   59\n"
     ]
    }
   ],
   "source": [
    "# Variable swapping \n",
    "var1 = int(input(\"Give a number which you like for var1: \"))\n",
    "var2 = int(input (\"Give a number which you like for var2: \"))\n",
    "\n",
    "var1, var2 = var2, var1\n",
    "print(\"-------After Swapping the result is-------\")\n",
    "print(\"After swapping the value of var1 is : \", var1)\n",
    "print(\"After Swapping the value of var2 is:  \", var2)"
   ]
  }
 ],
 "metadata": {
  "colab": {
   "provenance": []
  },
  "kernelspec": {
   "display_name": "Python 3 (ipykernel)",
   "language": "python",
   "name": "python3"
  },
  "language_info": {
   "codemirror_mode": {
    "name": "ipython",
    "version": 3
   },
   "file_extension": ".py",
   "mimetype": "text/x-python",
   "name": "python",
   "nbconvert_exporter": "python",
   "pygments_lexer": "ipython3",
   "version": "3.9.12"
  }
 },
 "nbformat": 4,
 "nbformat_minor": 5
}
