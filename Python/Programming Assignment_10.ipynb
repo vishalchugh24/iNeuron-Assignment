{
 "cells": [
  {
   "cell_type": "markdown",
   "id": "3dcb940f",
   "metadata": {},
   "source": [
    "## Python Basic Programming Assignment 10"
   ]
  },
  {
   "cell_type": "markdown",
   "id": "6720790a",
   "metadata": {},
   "source": [
    "### 1. Write a Python program to find sum of elements in list?"
   ]
  },
  {
   "cell_type": "code",
   "execution_count": 8,
   "id": "cb37ae77",
   "metadata": {},
   "outputs": [
    {
     "name": "stdout",
     "output_type": "stream",
     "text": [
      "Enter any integer value 1: 20\n",
      "Enter any integer value 2: 50\n",
      "Enter any integer value 3: 10\n",
      "Enter any integer value 4: 20\n",
      "The sum of elements in the list is:  100\n"
     ]
    }
   ],
   "source": [
    "# Sum of elements in list\n",
    "num1 = int(input(\"Enter any integer value 1: \"))\n",
    "num2 = int(input(\"Enter any integer value 2: \"))\n",
    "num3 = int(input(\"Enter any integer value 3: \"))\n",
    "num4 = int(input(\"Enter any integer value 4: \"))\n",
    "\n",
    "list_1 = [num1, num2, num3, num4]           \n",
    "           \n",
    "print(\"The sum of elements in the list is: \", sum(list_1))"
   ]
  },
  {
   "cell_type": "markdown",
   "id": "fe1137c3",
   "metadata": {},
   "source": [
    "### 2. Write a Python program to  Multiply all numbers in the list?"
   ]
  },
  {
   "cell_type": "code",
   "execution_count": 10,
   "id": "5ab1d90f",
   "metadata": {},
   "outputs": [],
   "source": [
    "# import numpy library as np\n",
    "import numpy as np"
   ]
  },
  {
   "cell_type": "code",
   "execution_count": 13,
   "id": "4768597a",
   "metadata": {},
   "outputs": [
    {
     "name": "stdout",
     "output_type": "stream",
     "text": [
      "Enter any integer value 1: 6\n",
      "Enter any integer value 2: 3\n",
      "Enter any integer value 3: 5\n",
      "Enter any integer value 4: 9\n",
      "The multiplication of elements in the list is:  810\n"
     ]
    }
   ],
   "source": [
    "# Multiply elements in list\n",
    "num1 = int(input(\"Enter any integer value 1: \"))\n",
    "num2 = int(input(\"Enter any integer value 2: \"))\n",
    "num3 = int(input(\"Enter any integer value 3: \"))\n",
    "num4 = int(input(\"Enter any integer value 4: \"))\n",
    "\n",
    "list_1 = [num1, num2, num3, num4]           \n",
    "           \n",
    "print(\"The multiplication of elements in the list is: \", np.prod(list_1))"
   ]
  },
  {
   "cell_type": "markdown",
   "id": "078681db",
   "metadata": {},
   "source": [
    "### 3. Write a Python program to find smallest number in a list?"
   ]
  },
  {
   "cell_type": "code",
   "execution_count": 15,
   "id": "bfa62636",
   "metadata": {},
   "outputs": [
    {
     "name": "stdout",
     "output_type": "stream",
     "text": [
      "Enter any integer value 1: 65\n",
      "Enter any integer value 2: 25\n",
      "Enter any integer value 3: 33\n",
      "Enter any integer value 4: 94\n",
      "The smallest number in the list is:  25\n"
     ]
    }
   ],
   "source": [
    "# smallest number in list\n",
    "num1 = int(input(\"Enter any integer value 1: \"))\n",
    "num2 = int(input(\"Enter any integer value 2: \"))\n",
    "num3 = int(input(\"Enter any integer value 3: \"))\n",
    "num4 = int(input(\"Enter any integer value 4: \"))\n",
    "\n",
    "list_1 = [num1, num2, num3, num4]           \n",
    "           \n",
    "print(\"The smallest number in the list is: \", min(list_1))"
   ]
  },
  {
   "cell_type": "markdown",
   "id": "12b04397",
   "metadata": {},
   "source": [
    "### 4. Write a Python program to find largest number in a list?"
   ]
  },
  {
   "cell_type": "code",
   "execution_count": 16,
   "id": "aaea90cc",
   "metadata": {},
   "outputs": [
    {
     "name": "stdout",
     "output_type": "stream",
     "text": [
      "Enter any integer value 1: 65\n",
      "Enter any integer value 2: 21\n",
      "Enter any integer value 3: 96\n",
      "Enter any integer value 4: 45\n",
      "The largest number in the list is:  96\n"
     ]
    }
   ],
   "source": [
    "# largest number in list\n",
    "num1 = int(input(\"Enter any integer value 1: \"))\n",
    "num2 = int(input(\"Enter any integer value 2: \"))\n",
    "num3 = int(input(\"Enter any integer value 3: \"))\n",
    "num4 = int(input(\"Enter any integer value 4: \"))\n",
    "\n",
    "list_1 = [num1, num2, num3, num4]           \n",
    "           \n",
    "print(\"The largest number in the list is: \", max(list_1))"
   ]
  },
  {
   "cell_type": "markdown",
   "id": "86442b51",
   "metadata": {},
   "source": [
    "### 5. Write a Python program to find second largest number in a list?"
   ]
  },
  {
   "cell_type": "code",
   "execution_count": 17,
   "id": "80cbc06e",
   "metadata": {},
   "outputs": [
    {
     "name": "stdout",
     "output_type": "stream",
     "text": [
      "Enter any integer value 1: 25\n",
      "Enter any integer value 2: 96\n",
      "Enter any integer value 3: 35\n",
      "Enter any integer value 4: 46\n",
      "The Second largest number in the list is:  46\n"
     ]
    }
   ],
   "source": [
    "# Second largest number in a list\n",
    "num1 = int(input(\"Enter any integer value 1: \"))\n",
    "num2 = int(input(\"Enter any integer value 2: \"))\n",
    "num3 = int(input(\"Enter any integer value 3: \"))\n",
    "num4 = int(input(\"Enter any integer value 4: \"))\n",
    "\n",
    "list_1 = [num1, num2, num3, num4]           \n",
    "\n",
    "list_1.sort()\n",
    "\n",
    "print(\"The Second largest number in the list is: \", list_1[-2])"
   ]
  },
  {
   "cell_type": "markdown",
   "id": "10964d7d",
   "metadata": {},
   "source": [
    "### 6. Write a Python program to find N largest elements from a list?"
   ]
  },
  {
   "cell_type": "code",
   "execution_count": 23,
   "id": "8e7cbd57",
   "metadata": {},
   "outputs": [
    {
     "name": "stdout",
     "output_type": "stream",
     "text": [
      "Select a number between 1 to 3: 3\n",
      "Enter any integer value 1: 12\n",
      "Enter any integer value 2: 56\n",
      "Enter any integer value 3: 95\n",
      "Enter any integer value 4: 74\n",
      "n largest number are:  [56, 74, 95]\n"
     ]
    }
   ],
   "source": [
    "# n largest numbers from a list\n",
    "\n",
    "n = int(input(\"Select a number between 1 to 3: \"))\n",
    "num1 = int(input(\"Enter any integer value 1: \"))\n",
    "num2 = int(input(\"Enter any integer value 2: \"))\n",
    "num3 = int(input(\"Enter any integer value 3: \"))\n",
    "num4 = int(input(\"Enter any integer value 4: \"))\n",
    "\n",
    "list_1 = [num1, num2, num3, num4]           \n",
    "\n",
    "list_1.sort()\n",
    "\n",
    "print(\"n largest number are: \", list_1[-n:])"
   ]
  },
  {
   "cell_type": "markdown",
   "id": "2f1a1e98",
   "metadata": {},
   "source": [
    "### 7. Write a Python program to print even numbers in a list?"
   ]
  },
  {
   "cell_type": "code",
   "execution_count": null,
   "id": "01fb5131",
   "metadata": {},
   "outputs": [],
   "source": [
    "def even_num(list_1):\n",
    "    if list_1[0:5]%0:\n",
    "        print()"
   ]
  },
  {
   "cell_type": "code",
   "execution_count": 30,
   "id": "ac6de472",
   "metadata": {},
   "outputs": [
    {
     "name": "stdout",
     "output_type": "stream",
     "text": [
      "Enter any integer value 1: 56\n",
      "Enter any integer value 2: 95\n",
      "Enter any integer value 3: 87\n",
      "Enter any integer value 4: 54\n",
      "56 54 "
     ]
    }
   ],
   "source": [
    "# Print even numbers in the list\n",
    "num1 = int(input(\"Enter any integer value 1: \"))\n",
    "num2 = int(input(\"Enter any integer value 2: \"))\n",
    "num3 = int(input(\"Enter any integer value 3: \"))\n",
    "num4 = int(input(\"Enter any integer value 4: \"))\n",
    "\n",
    "list_1 = [num1, num2, num3, num4]       \n",
    "\n",
    "for num in list_1:\n",
    "    if num % 2 == 0:\n",
    "            print(num, end=\" \")"
   ]
  },
  {
   "cell_type": "markdown",
   "id": "989bb324",
   "metadata": {},
   "source": [
    "### 8. Write a Python program to print odd numbers in a List?"
   ]
  },
  {
   "cell_type": "code",
   "execution_count": 31,
   "id": "8db3517f",
   "metadata": {},
   "outputs": [
    {
     "name": "stdout",
     "output_type": "stream",
     "text": [
      "Enter any integer value 1: 56\n",
      "Enter any integer value 2: 25\n",
      "Enter any integer value 3: 65\n",
      "Enter any integer value 4: 88\n",
      "25 65 "
     ]
    }
   ],
   "source": [
    "# Print even numbers in the list\n",
    "num1 = int(input(\"Enter any integer value 1: \"))\n",
    "num2 = int(input(\"Enter any integer value 2: \"))\n",
    "num3 = int(input(\"Enter any integer value 3: \"))\n",
    "num4 = int(input(\"Enter any integer value 4: \"))\n",
    "\n",
    "list_1 = [num1, num2, num3, num4]       \n",
    "\n",
    "for num in list_1:\n",
    "    if num % 2 != 0:\n",
    "            print(num, end=\" \")"
   ]
  },
  {
   "cell_type": "markdown",
   "id": "185b7b13",
   "metadata": {},
   "source": [
    "### 9. Write a Python program to Remove empty List from List?"
   ]
  },
  {
   "cell_type": "code",
   "execution_count": 33,
   "id": "037bb976",
   "metadata": {},
   "outputs": [
    {
     "name": "stdout",
     "output_type": "stream",
     "text": [
      "The original list is : [2, 5, [], 3, [], [], 9]\n",
      "List after empty list removal : [2, 5, 3, 9]\n"
     ]
    }
   ],
   "source": [
    "list_data = [2, 5, [], 3, [], [], 9]\n",
    "print(\"The original list is : \" + str(list_data))\n",
    "while [] in list_data :\n",
    "    list_data.remove([])\n",
    "\n",
    "print(\"List after empty list removal : \" + str(list_data))"
   ]
  },
  {
   "cell_type": "markdown",
   "id": "278cfacc",
   "metadata": {},
   "source": [
    "### 10. Write a Python program to Cloning or Copying a list?"
   ]
  },
  {
   "cell_type": "code",
   "execution_count": 34,
   "id": "b5f7fcf6",
   "metadata": {},
   "outputs": [],
   "source": [
    "# Cloning function\n",
    "def Cloning(li1):\n",
    "    li_copy = li1[:]\n",
    "    return li_copy"
   ]
  },
  {
   "cell_type": "code",
   "execution_count": 35,
   "id": "4414c63e",
   "metadata": {},
   "outputs": [
    {
     "name": "stdout",
     "output_type": "stream",
     "text": [
      "Original List: [4, 8, 2, 10, 15, 18]\n",
      "After Cloning: [4, 8, 2, 10, 15, 18]\n"
     ]
    }
   ],
   "source": [
    "# Cloning\n",
    "li1 = [4, 8, 2, 10, 15, 18]\n",
    "li2 = Cloning(li1)\n",
    "print(\"Original List:\", li1)\n",
    "print(\"After Cloning:\", li2)"
   ]
  },
  {
   "cell_type": "markdown",
   "id": "b359bedf",
   "metadata": {},
   "source": [
    "### 11. Write a Python program to Count occurrences of an element in a list?"
   ]
  },
  {
   "cell_type": "code",
   "execution_count": 37,
   "id": "195aa44a",
   "metadata": {},
   "outputs": [],
   "source": [
    "# Count function \n",
    "def countX(lst, x):\n",
    "    return lst.count(x)"
   ]
  },
  {
   "cell_type": "code",
   "execution_count": 38,
   "id": "4a07cf2b",
   "metadata": {},
   "outputs": [
    {
     "name": "stdout",
     "output_type": "stream",
     "text": [
      "8 has occurred 5 times\n"
     ]
    }
   ],
   "source": [
    "# Count number of occurences\n",
    "lst = [8, 6, 8, 10, 8, 20, 10, 8, 8]\n",
    "x = 8\n",
    "print('{} has occurred {} times'.format(x,countX(lst, x)))"
   ]
  }
 ],
 "metadata": {
  "kernelspec": {
   "display_name": "Python 3 (ipykernel)",
   "language": "python",
   "name": "python3"
  },
  "language_info": {
   "codemirror_mode": {
    "name": "ipython",
    "version": 3
   },
   "file_extension": ".py",
   "mimetype": "text/x-python",
   "name": "python",
   "nbconvert_exporter": "python",
   "pygments_lexer": "ipython3",
   "version": "3.9.12"
  }
 },
 "nbformat": 4,
 "nbformat_minor": 5
}
