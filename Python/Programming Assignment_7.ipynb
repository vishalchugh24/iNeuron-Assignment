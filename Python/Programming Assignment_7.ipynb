{
 "cells": [
  {
   "cell_type": "markdown",
   "id": "35297a20",
   "metadata": {},
   "source": [
    "## Programming Basic Assignment 7"
   ]
  },
  {
   "cell_type": "markdown",
   "id": "27349114",
   "metadata": {},
   "source": [
    "### 1. Write a Python Program to find sum of array?"
   ]
  },
  {
   "cell_type": "code",
   "execution_count": 1,
   "id": "192f2d6f",
   "metadata": {},
   "outputs": [],
   "source": [
    "# Defining a sum_array function\n",
    "def sum_array(array):\n",
    "    sum = 0\n",
    "    for i in array:\n",
    "        sum = sum + i\n",
    "    return(sum)"
   ]
  },
  {
   "cell_type": "code",
   "execution_count": 4,
   "id": "209fd66c",
   "metadata": {},
   "outputs": [
    {
     "name": "stdout",
     "output_type": "stream",
     "text": [
      "Enter integer value 1: 20\n",
      "Enter integer value 2: 30\n",
      "Enter integer value 3: 10\n",
      "Enter integer value 4: 5\n",
      "Sum of array is:  65\n"
     ]
    }
   ],
   "source": [
    "# Create a list and let user input integer values and user defined fucntion returns answers\n",
    "val1 = int(input(\"Enter integer value 1: \"))\n",
    "val2 = int(input(\"Enter integer value 2: \"))\n",
    "val3 = int(input(\"Enter integer value 3: \"))\n",
    "val4 = int(input(\"Enter integer value 4: \"))\n",
    "\n",
    "array = [val1, val2, val3, val4]\n",
    "answer = sum_array(array)\n",
    "\n",
    "print(\"Sum of array is: \", answer)"
   ]
  },
  {
   "cell_type": "markdown",
   "id": "171a980d",
   "metadata": {},
   "source": [
    "### 2. Write a Python Program to find largest element in an array?\n"
   ]
  },
  {
   "cell_type": "code",
   "execution_count": 6,
   "id": "1400bb3b",
   "metadata": {},
   "outputs": [
    {
     "name": "stdout",
     "output_type": "stream",
     "text": [
      "Enter integer value 1: 69\n",
      "Enter integer value 2: 82\n",
      "Enter integer value 3: 95\n",
      "Enter integer value 4: 26\n",
      "Maximum value in array is:  95\n"
     ]
    }
   ],
   "source": [
    "# finding largest element in an array\n",
    "val_a = int(input(\"Enter integer value 1: \"))\n",
    "val_b = int(input(\"Enter integer value 2: \"))\n",
    "val_c = int(input(\"Enter integer value 3: \"))\n",
    "val_d = int(input(\"Enter integer value 4: \"))\n",
    "\n",
    "array_list = [val_a, val_b, val_c, val_d]\n",
    "max_answer = max(array_list)\n",
    "\n",
    "print(\"Maximum value in array is: \", max_answer)"
   ]
  },
  {
   "cell_type": "markdown",
   "id": "21613246",
   "metadata": {},
   "source": [
    "### 3. Write a Python Program for array rotation?"
   ]
  },
  {
   "cell_type": "code",
   "execution_count": 7,
   "id": "822fb96c",
   "metadata": {},
   "outputs": [],
   "source": [
    "# Rotation function\n",
    "def rotateList(arr,d,n):\n",
    "  arr[:]=arr[d:n]+arr[0:d]\n",
    "  return arr"
   ]
  },
  {
   "cell_type": "code",
   "execution_count": 9,
   "id": "582c5a37",
   "metadata": {},
   "outputs": [
    {
     "name": "stdout",
     "output_type": "stream",
     "text": [
      "Enter integer value 1: 20\n",
      "Enter integer value 2: 50\n",
      "Enter integer value 3: 63\n",
      "Enter integer value 4: 96\n",
      "[20, 50, 63, 96]\n",
      "Rotated list is\n",
      "[63, 96, 20, 50]\n"
     ]
    }
   ],
   "source": [
    "val_1 = int(input(\"Enter integer value 1: \"))\n",
    "val_2 = int(input(\"Enter integer value 2: \"))\n",
    "val_3 = int(input(\"Enter integer value 3: \"))\n",
    "val_4 = int(input(\"Enter integer value 4: \"))\n",
    "\n",
    "arr = [val_1, val_2, val_3, val_4]\n",
    "print(arr)\n",
    "print(\"Rotated list is\")\n",
    "print(rotateList(arr,2,len(arr))) "
   ]
  },
  {
   "cell_type": "markdown",
   "id": "3e52d939",
   "metadata": {},
   "source": [
    "### 4. Write a Python Program to Split the array and add the first part to the end?"
   ]
  },
  {
   "cell_type": "code",
   "execution_count": 10,
   "id": "fca0d2f5",
   "metadata": {},
   "outputs": [],
   "source": [
    "# define Split array\n",
    "def split_array(arr, n, k):\n",
    "    for i in range(0, k):\n",
    "        x = arr[0]\n",
    "        for j in range(0, n-1):\n",
    "            arr[j] = arr[j + 1]\n",
    "         \n",
    "        arr[n-1] = x"
   ]
  },
  {
   "cell_type": "code",
   "execution_count": 12,
   "id": "d9f5434d",
   "metadata": {},
   "outputs": [
    {
     "name": "stdout",
     "output_type": "stream",
     "text": [
      "Enter integer value 1: 25\n",
      "Enter integer value 2: 65\n",
      "Enter integer value 3: 29\n",
      "Enter integer value 4: 35\n",
      "29 35 25 65 "
     ]
    }
   ],
   "source": [
    "# Execute\n",
    "val_1 = int(input(\"Enter integer value 1: \"))\n",
    "val_2 = int(input(\"Enter integer value 2: \"))\n",
    "val_3 = int(input(\"Enter integer value 3: \"))\n",
    "val_4 = int(input(\"Enter integer value 4: \"))\n",
    "\n",
    "arr = [val_1, val_2, val_3, val_4]\n",
    "n = 4 \n",
    "position = 2\n",
    " \n",
    "split_array(arr, n, position)\n",
    " \n",
    "for i in range(0, n):\n",
    "    print(arr[i], end = ' ')"
   ]
  },
  {
   "cell_type": "markdown",
   "id": "aa375779",
   "metadata": {},
   "source": [
    "### 5. Write a Python Program to check if given array is Monotonic?"
   ]
  },
  {
   "cell_type": "code",
   "execution_count": 13,
   "id": "1a925ee5",
   "metadata": {},
   "outputs": [],
   "source": [
    "def val_monotonic(val):\n",
    "    x, y = [], []\n",
    "    x.extend(val)\n",
    "    y.extend(val)\n",
    "    x.sort()\n",
    "    y.sort(reverse=True)\n",
    "    if(x == val or y == val):\n",
    "        return True\n",
    "    return False"
   ]
  },
  {
   "cell_type": "code",
   "execution_count": 15,
   "id": "24072e56",
   "metadata": {},
   "outputs": [
    {
     "name": "stdout",
     "output_type": "stream",
     "text": [
      "False\n"
     ]
    }
   ],
   "source": [
    "val = [9, 3, 5, 2]\n",
    " \n",
    "# Print required result\n",
    "print(val_monotonic(val))"
   ]
  }
 ],
 "metadata": {
  "kernelspec": {
   "display_name": "Python 3 (ipykernel)",
   "language": "python",
   "name": "python3"
  },
  "language_info": {
   "codemirror_mode": {
    "name": "ipython",
    "version": 3
   },
   "file_extension": ".py",
   "mimetype": "text/x-python",
   "name": "python",
   "nbconvert_exporter": "python",
   "pygments_lexer": "ipython3",
   "version": "3.9.12"
  }
 },
 "nbformat": 4,
 "nbformat_minor": 5
}
