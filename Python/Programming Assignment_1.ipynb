{
 "cells": [
  {
   "cell_type": "markdown",
   "id": "637b47a5",
   "metadata": {},
   "source": [
    "## Programming Assignment_1\n",
    "-------------"
   ]
  },
  {
   "cell_type": "markdown",
   "id": "0c647dbe",
   "metadata": {},
   "source": [
    "### 1. Write a Python program to print \"Hello Python\"?"
   ]
  },
  {
   "cell_type": "code",
   "execution_count": 1,
   "id": "6274f854",
   "metadata": {},
   "outputs": [
    {
     "name": "stdout",
     "output_type": "stream",
     "text": [
      "Hello Python\n"
     ]
    }
   ],
   "source": [
    "# Print Hello Python\n",
    "print(\"Hello Python\")"
   ]
  },
  {
   "cell_type": "markdown",
   "id": "fc18a6cd",
   "metadata": {},
   "source": [
    "### 2. Write a Python program to do arithmetical operations addition and division.?\n"
   ]
  },
  {
   "cell_type": "code",
   "execution_count": 21,
   "id": "955461f3",
   "metadata": {},
   "outputs": [],
   "source": [
    "# Create a python program which does addition and division\n",
    "def add_div(cond, val1, val2):\n",
    "    if cond == \"add\":\n",
    "        print(val1 + val2)\n",
    "    elif cond == \"div\":\n",
    "           print(val1/val2)\n",
    "    else:\n",
    "        print(\"Please provide either add or div condition only inside quotation\")   "
   ]
  },
  {
   "cell_type": "code",
   "execution_count": 23,
   "id": "94867733",
   "metadata": {},
   "outputs": [
    {
     "name": "stdout",
     "output_type": "stream",
     "text": [
      "1.5\n"
     ]
    }
   ],
   "source": [
    "# Function add_div is one function which does both calculations\n",
    "add_div(\"div\", 30, 20)"
   ]
  },
  {
   "cell_type": "markdown",
   "id": "af6e2429",
   "metadata": {},
   "source": [
    "### 3. Write a Python program to find the area of a triangle?\n"
   ]
  },
  {
   "cell_type": "code",
   "execution_count": 28,
   "id": "f732054d",
   "metadata": {},
   "outputs": [
    {
     "name": "stdout",
     "output_type": "stream",
     "text": [
      "What is the value of base of triangle ?42\n",
      "What is the value of height of triangle ?25\n",
      "Area of triangle is:  525.0\n"
     ]
    }
   ],
   "source": [
    "# Area of triangle formula and print statement to print the result\n",
    "base = int(input(\"What is the value of base of triangle ?\"))\n",
    "height = int(input (\"What is the value of height of triangle ?\"))\n",
    "area_of_triangle = 1/2 * base * height\n",
    "print(\"Area of triangle is: \", area_of_triangle)"
   ]
  },
  {
   "cell_type": "markdown",
   "id": "b8140061",
   "metadata": {},
   "source": [
    "### 4. Write a Python program to swap two variables?\n"
   ]
  },
  {
   "cell_type": "code",
   "execution_count": 36,
   "id": "6c813f81",
   "metadata": {},
   "outputs": [
    {
     "name": "stdout",
     "output_type": "stream",
     "text": [
      "Give a number which you like for var1: 54\n",
      "Give a number which you like for var2: 26\n",
      "-------After Swapping the result is-------\n",
      "After swapping the value of var1 is :  26\n",
      "After Swapping the value of var2 is:   54\n"
     ]
    }
   ],
   "source": [
    "# Variable swapping \n",
    "var1 = int(input(\"Give a number which you like for var1: \"))\n",
    "var2 = int(input (\"Give a number which you like for var2: \"))\n",
    "\n",
    "var1, var2 = var2, var1\n",
    "print(\"-------After Swapping the result is-------\")\n",
    "print(\"After swapping the value of var1 is : \", var1)\n",
    "print(\"After Swapping the value of var2 is:  \", var2)"
   ]
  },
  {
   "cell_type": "markdown",
   "id": "3f8054c1",
   "metadata": {},
   "source": [
    "### 5. Write a Python program to generate a random number?\n"
   ]
  },
  {
   "cell_type": "code",
   "execution_count": 37,
   "id": "1f6e9785",
   "metadata": {},
   "outputs": [],
   "source": [
    "# import random in python\n",
    "import random"
   ]
  },
  {
   "cell_type": "code",
   "execution_count": 40,
   "id": "7184b9e4",
   "metadata": {},
   "outputs": [
    {
     "name": "stdout",
     "output_type": "stream",
     "text": [
      "60\n"
     ]
    }
   ],
   "source": [
    "# Generating Random Number\n",
    "print(random.randint(0,100))"
   ]
  }
 ],
 "metadata": {
  "kernelspec": {
   "display_name": "Python 3 (ipykernel)",
   "language": "python",
   "name": "python3"
  },
  "language_info": {
   "codemirror_mode": {
    "name": "ipython",
    "version": 3
   },
   "file_extension": ".py",
   "mimetype": "text/x-python",
   "name": "python",
   "nbconvert_exporter": "python",
   "pygments_lexer": "ipython3",
   "version": "3.9.12"
  }
 },
 "nbformat": 4,
 "nbformat_minor": 5
}
