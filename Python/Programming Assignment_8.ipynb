{
 "cells": [
  {
   "cell_type": "markdown",
   "id": "9b304197",
   "metadata": {},
   "source": [
    "# Python Basic Programming Assignment 8"
   ]
  },
  {
   "cell_type": "markdown",
   "id": "22789ae6",
   "metadata": {},
   "source": [
    "### 1. Write a Python Program to Add Two Matrices?"
   ]
  },
  {
   "cell_type": "code",
   "execution_count": 1,
   "id": "f8a08de5",
   "metadata": {},
   "outputs": [
    {
     "name": "stdout",
     "output_type": "stream",
     "text": [
      "[8, 5, 12]\n",
      "[12, 9, 11]\n",
      "[7, 10, 4]\n"
     ]
    }
   ],
   "source": [
    "# Add two matrices\n",
    "X = [[2,3,6],\n",
    "    [8 ,3,2],\n",
    "    [5 ,2,1]]\n",
    "\n",
    "Y = [[6,2,6],\n",
    "    [4,6,9],\n",
    "    [2,8,3]]\n",
    "\n",
    "result = [[0,0,0],\n",
    "         [0,0,0],\n",
    "         [0,0,0]]\n",
    "\n",
    "\n",
    "for i in range(len(X)):\n",
    "   # iterate through columns\n",
    "   for j in range(len(X[0])):\n",
    "       result[i][j] = X[i][j] + Y[i][j]\n",
    "\n",
    "for r in result:\n",
    "   print(r)"
   ]
  },
  {
   "cell_type": "markdown",
   "id": "044ceda6",
   "metadata": {},
   "source": [
    "### 2. Write a Python Program to Multiply Two Matrices?"
   ]
  },
  {
   "cell_type": "code",
   "execution_count": 2,
   "id": "6d8cec97",
   "metadata": {},
   "outputs": [
    {
     "name": "stdout",
     "output_type": "stream",
     "text": [
      "[12, 6, 36]\n",
      "[32, 18, 18]\n",
      "[10, 16, 3]\n"
     ]
    }
   ],
   "source": [
    "# Multiply two matrices\n",
    "X = [[2,3,6],\n",
    "    [8 ,3,2],\n",
    "    [5 ,2,1]]\n",
    "\n",
    "Y = [[6,2,6],\n",
    "    [4,6,9],\n",
    "    [2,8,3]]\n",
    "\n",
    "result = [[0,0,0],\n",
    "         [0,0,0],\n",
    "         [0,0,0]]\n",
    "\n",
    "\n",
    "for i in range(len(X)):\n",
    "   # iterate through columns\n",
    "   for j in range(len(X[0])):\n",
    "       result[i][j] = X[i][j] * Y[i][j]\n",
    "\n",
    "for r in result:\n",
    "   print(r)"
   ]
  },
  {
   "cell_type": "markdown",
   "id": "5f688e46",
   "metadata": {},
   "source": [
    "### 3. Write a Python Program to Transpose a Matrix?"
   ]
  },
  {
   "cell_type": "code",
   "execution_count": 3,
   "id": "e4d77f08",
   "metadata": {},
   "outputs": [
    {
     "name": "stdout",
     "output_type": "stream",
     "text": [
      "[6, 5, 2]\n",
      "[9, 3, 7]\n"
     ]
    }
   ],
   "source": [
    "# Trnspose a matrix\n",
    "X = [[6,9],\n",
    "    [5 ,3],\n",
    "    [2 ,7]]\n",
    "\n",
    "result = [[0,0,0],\n",
    "         [0,0,0]]\n",
    "\n",
    "\n",
    "for i in range(len(X)):\n",
    "   # iterate through columns\n",
    "   for j in range(len(X[0])):\n",
    "       result[j][i] = X[i][j]\n",
    "\n",
    "for r in result:\n",
    "   print(r)"
   ]
  },
  {
   "cell_type": "markdown",
   "id": "b2849025",
   "metadata": {},
   "source": [
    "\n",
    "### 4. Write a Python Program to Sort Words in Alphabetic Order?\n"
   ]
  },
  {
   "cell_type": "code",
   "execution_count": 4,
   "id": "3470f918",
   "metadata": {},
   "outputs": [
    {
     "name": "stdout",
     "output_type": "stream",
     "text": [
      "Enter a string: This is an awesome day\n",
      "The sorted words are:\n",
      "an\n",
      "awesome\n",
      "day\n",
      "is\n",
      "this\n"
     ]
    }
   ],
   "source": [
    "# Sort words in alphabetical order\n",
    "str_val = input(\"Enter a string: \")\n",
    "\n",
    "words = [word.lower() for word in str_val.split()]\n",
    "\n",
    "words.sort()\n",
    "\n",
    "print(\"The sorted words are:\")\n",
    "for word in words:\n",
    "   print(word)"
   ]
  },
  {
   "cell_type": "markdown",
   "id": "48ac7b24",
   "metadata": {},
   "source": [
    "### 5. Write a Python Program to Remove Punctuation From a String?"
   ]
  },
  {
   "cell_type": "code",
   "execution_count": 5,
   "id": "2ec07467",
   "metadata": {},
   "outputs": [
    {
     "name": "stdout",
     "output_type": "stream",
     "text": [
      "Enter a string: Hurray!! We won the match\n",
      "Hurray We won the match\n"
     ]
    }
   ],
   "source": [
    "# Remove punctuations\n",
    "punctuations = '''!()-[]{};:'\"\\,<>./?@#$%^&*_~'''\n",
    "\n",
    "string = input(\"Enter a string: \")\n",
    "\n",
    "# remove punctuation from the string\n",
    "no_punct = \"\"\n",
    "for char in string:\n",
    "       if char not in punctuations:\n",
    "           no_punct = no_punct + char\n",
    "\n",
    "# display the unpunctuated string\n",
    "print(no_punct)"
   ]
  }
 ],
 "metadata": {
  "kernelspec": {
   "display_name": "Python 3 (ipykernel)",
   "language": "python",
   "name": "python3"
  },
  "language_info": {
   "codemirror_mode": {
    "name": "ipython",
    "version": 3
   },
   "file_extension": ".py",
   "mimetype": "text/x-python",
   "name": "python",
   "nbconvert_exporter": "python",
   "pygments_lexer": "ipython3",
   "version": "3.9.12"
  }
 },
 "nbformat": 4,
 "nbformat_minor": 5
}
