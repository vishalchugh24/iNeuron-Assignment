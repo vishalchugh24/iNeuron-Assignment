{
 "cells": [
  {
   "cell_type": "markdown",
   "id": "4ac9602a",
   "metadata": {},
   "source": [
    "## Python Basic Programming Assignment - 5\n",
    "--------------\n"
   ]
  },
  {
   "cell_type": "markdown",
   "id": "fdaeee06",
   "metadata": {},
   "source": [
    "### 1. Write a Python Program to Find LCM?"
   ]
  },
  {
   "cell_type": "code",
   "execution_count": 1,
   "id": "a8aa392e",
   "metadata": {},
   "outputs": [],
   "source": [
    "# Find the L.C.M. of two input number\n",
    "\n",
    "def cal_lcm(x, y):\n",
    "\n",
    "   \n",
    "   if x > y:\n",
    "       greater_num = x\n",
    "   else:\n",
    "       greater_num = y\n",
    "\n",
    "   while(True):\n",
    "       if((greater_num % x == 0) and (greater_num % y == 0)):\n",
    "           lcm = greater_num\n",
    "           break\n",
    "       greater_num += 1\n",
    "\n",
    "   return lcm"
   ]
  },
  {
   "cell_type": "code",
   "execution_count": 5,
   "id": "917530e1",
   "metadata": {},
   "outputs": [
    {
     "name": "stdout",
     "output_type": "stream",
     "text": [
      "Enter the value of x: 25\n",
      "Enter the value of y: 69\n",
      "The L.C.M is 1725\n"
     ]
    }
   ],
   "source": [
    "x = int(input(\"Enter the value of x: \"))\n",
    "y = int(input(\"Enter the value of y: \"))\n",
    "print(\"The L.C.M is\",cal_lcm(x,y))"
   ]
  },
  {
   "cell_type": "markdown",
   "id": "2f459cdf",
   "metadata": {},
   "source": [
    "### 2. Write a Python Program to Find HCF?"
   ]
  },
  {
   "cell_type": "code",
   "execution_count": 6,
   "id": "c297e7de",
   "metadata": {},
   "outputs": [
    {
     "name": "stdout",
     "output_type": "stream",
     "text": [
      "The H.C.F. is 1\n"
     ]
    }
   ],
   "source": [
    "# Find H.C.F of two numbers\n",
    "\n",
    "\n",
    "def compute_hcf(x, y):\n",
    "    if x > y:\n",
    "        smaller = y\n",
    "    else:\n",
    "        smaller = x\n",
    "    for i in range(1, smaller+1):\n",
    "        if((x % i == 0) and (y % i == 0)):\n",
    "            hcf = i \n",
    "    return hcf\n",
    "\n",
    "number_1 = 19 \n",
    "number_2 = 65\n",
    "\n",
    "print(\"The H.C.F. is\", compute_hcf(number_1, number_2))"
   ]
  },
  {
   "cell_type": "markdown",
   "id": "d2c29370",
   "metadata": {},
   "source": [
    "### 3. Write a Python Program to Convert Decimal to Binary, Octal and Hexadecimal?"
   ]
  },
  {
   "cell_type": "code",
   "execution_count": 8,
   "id": "5202021f",
   "metadata": {},
   "outputs": [
    {
     "name": "stdout",
     "output_type": "stream",
     "text": [
      "The decimal value of 555 is:\n",
      "0b1000101011 in binary.\n",
      "0o1053 in octal.\n",
      "0x22b in hexadecimal.\n"
     ]
    }
   ],
   "source": [
    "#convert decimal into other number systems\n",
    "val = 555\n",
    "\n",
    "print(\"The decimal value of\", val, \"is:\")\n",
    "print(bin(val), \"in binary.\")\n",
    "print(oct(val), \"in octal.\")\n",
    "print(hex(val), \"in hexadecimal.\")"
   ]
  },
  {
   "cell_type": "markdown",
   "id": "2a16c5fd",
   "metadata": {},
   "source": [
    "### 4. Write a Python Program To Find ASCII value of a character?"
   ]
  },
  {
   "cell_type": "code",
   "execution_count": 11,
   "id": "912bd4d9",
   "metadata": {},
   "outputs": [
    {
     "name": "stdout",
     "output_type": "stream",
     "text": [
      "The ASCII value of 's' is 115\n"
     ]
    }
   ],
   "source": [
    "# find the ASCII value of the given character\n",
    "var = 's'\n",
    "print(\"The ASCII value of '\" + var + \"' is\", ord(var))"
   ]
  },
  {
   "cell_type": "markdown",
   "id": "226778a0",
   "metadata": {},
   "source": [
    "### 5. Write a Python Program to Make a Simple Calculator with 4 basic mathematical operations?"
   ]
  },
  {
   "cell_type": "code",
   "execution_count": 19,
   "id": "b761329e",
   "metadata": {},
   "outputs": [
    {
     "name": "stdout",
     "output_type": "stream",
     "text": [
      "Enter The First Number: 8547\n",
      "Enter The Second Number: 6325\n",
      "Select The Operation (add/multi/subtract/divide): add\n",
      "The addition of these two values is:  14872\n"
     ]
    }
   ],
   "source": [
    "val_1 = int(input(\"Enter The First Number: \"))\n",
    "val_2 = int(input(\"Enter The Second Number: \"))\n",
    "opr = str(input(\"Select The Operation (add/multi/subtract/divide): \"))\n",
    "\n",
    "if opr == \"add\":\n",
    "    print(\"The addition of these two values is: \",val_1 + val_2)\n",
    "elif opr == \"multi\":\n",
    "    print(\"The multiplication of these two values is: \",val_1 * val_2)\n",
    "elif opr == \"subtract\":\n",
    "    print(\"The subtraction of these two values is: \",val_1 - val_2)\n",
    "elif opr == \"divide\":\n",
    "    print(\"The division of these two values is: \",val_1/val_2)\n",
    "else:\n",
    "    print(\"Calculator didn't get you, please give appropriate instructions!!\")    "
   ]
  }
 ],
 "metadata": {
  "kernelspec": {
   "display_name": "Python 3 (ipykernel)",
   "language": "python",
   "name": "python3"
  },
  "language_info": {
   "codemirror_mode": {
    "name": "ipython",
    "version": 3
   },
   "file_extension": ".py",
   "mimetype": "text/x-python",
   "name": "python",
   "nbconvert_exporter": "python",
   "pygments_lexer": "ipython3",
   "version": "3.9.12"
  }
 },
 "nbformat": 4,
 "nbformat_minor": 5
}
